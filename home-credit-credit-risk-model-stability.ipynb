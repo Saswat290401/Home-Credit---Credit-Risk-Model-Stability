{
 "cells": [
  {
   "cell_type": "code",
   "execution_count": 1,
   "id": "d069441a",
   "metadata": {
    "_cell_guid": "b1076dfc-b9ad-4769-8c92-a6c4dae69d19",
    "_uuid": "8f2839f25d086af736a60e9eeb907d3b93b6e0e5",
    "execution": {
     "iopub.execute_input": "2024-10-25T18:38:53.090872Z",
     "iopub.status.busy": "2024-10-25T18:38:53.090481Z",
     "iopub.status.idle": "2024-10-25T18:38:55.185713Z",
     "shell.execute_reply": "2024-10-25T18:38:55.184714Z"
    },
    "papermill": {
     "duration": 2.106219,
     "end_time": "2024-10-25T18:38:55.188072",
     "exception": false,
     "start_time": "2024-10-25T18:38:53.081853",
     "status": "completed"
    },
    "tags": []
   },
   "outputs": [],
   "source": [
    "import sys\n",
    "from pathlib import Path\n",
    "import subprocess\n",
    "import os\n",
    "import gc\n",
    "from glob import glob\n",
    "\n",
    "import numpy as np\n",
    "import pandas as pd\n",
    "import polars as pl\n",
    "from datetime import datetime\n",
    "import seaborn as sns\n",
    "import matplotlib.pyplot as plt\n",
    "\n",
    "import warnings\n",
    "warnings.filterwarnings('ignore')\n",
    "\n",
    "ROOT = '/kaggle/input/home-credit-credit-risk-model-stability'"
   ]
  },
  {
   "cell_type": "code",
   "execution_count": 2,
   "id": "34dc224f",
   "metadata": {
    "execution": {
     "iopub.execute_input": "2024-10-25T18:38:55.202573Z",
     "iopub.status.busy": "2024-10-25T18:38:55.202149Z",
     "iopub.status.idle": "2024-10-25T18:38:58.456883Z",
     "shell.execute_reply": "2024-10-25T18:38:58.456126Z"
    },
    "papermill": {
     "duration": 3.26435,
     "end_time": "2024-10-25T18:38:58.459197",
     "exception": false,
     "start_time": "2024-10-25T18:38:55.194847",
     "status": "completed"
    },
    "tags": []
   },
   "outputs": [],
   "source": [
    "from sklearn.model_selection import TimeSeriesSplit, GroupKFold, StratifiedGroupKFold\n",
    "from sklearn.base import BaseEstimator, RegressorMixin\n",
    "from sklearn.metrics import roc_auc_score\n",
    "import lightgbm as lgb"
   ]
  },
  {
   "cell_type": "code",
   "execution_count": 3,
   "id": "f20bf0c6",
   "metadata": {
    "execution": {
     "iopub.execute_input": "2024-10-25T18:38:58.473397Z",
     "iopub.status.busy": "2024-10-25T18:38:58.472882Z",
     "iopub.status.idle": "2024-10-25T18:38:58.484636Z",
     "shell.execute_reply": "2024-10-25T18:38:58.483814Z"
    },
    "papermill": {
     "duration": 0.020711,
     "end_time": "2024-10-25T18:38:58.486453",
     "exception": false,
     "start_time": "2024-10-25T18:38:58.465742",
     "status": "completed"
    },
    "tags": []
   },
   "outputs": [],
   "source": [
    "class Pipeline:\n",
    "\n",
    "    def set_table_dtypes(df):\n",
    "        for col in df.columns:\n",
    "            if col in [\"case_id\", \"WEEK_NUM\", \"num_group1\", \"num_group2\"]:\n",
    "                df = df.with_columns(pl.col(col).cast(pl.Int64))\n",
    "            elif col in [\"date_decision\"]:\n",
    "                df = df.with_columns(pl.col(col).cast(pl.Date))\n",
    "            elif col[-1] in (\"P\", \"A\"):\n",
    "                df = df.with_columns(pl.col(col).cast(pl.Float64))\n",
    "            elif col[-1] in (\"M\",):\n",
    "                df = df.with_columns(pl.col(col).cast(pl.String))\n",
    "            elif col[-1] in (\"D\",):\n",
    "                df = df.with_columns(pl.col(col).cast(pl.Date))\n",
    "        return df\n",
    "\n",
    "    def handle_dates(df):\n",
    "        for col in df.columns:\n",
    "            if col[-1] in (\"D\",):\n",
    "                df = df.with_columns(pl.col(col) - pl.col(\"date_decision\"))  #!!?\n",
    "                df = df.with_columns(pl.col(col).dt.total_days()) # t - t-1\n",
    "        df = df.drop(\"date_decision\", \"MONTH\")\n",
    "        return df\n",
    "\n",
    "    def filter_cols(df):\n",
    "        for col in df.columns:\n",
    "            if col not in [\"target\", \"case_id\", \"WEEK_NUM\"]:\n",
    "                isnull = df[col].is_null().mean()\n",
    "                if isnull > 0.5:\n",
    "                    df = df.drop(col)\n",
    "        \n",
    "        for col in df.columns:\n",
    "            if (col not in [\"target\", \"case_id\", \"WEEK_NUM\"]) & (df[col].dtype == pl.String):\n",
    "                freq = df[col].n_unique()\n",
    "                if (freq == 1) | (freq > 200):\n",
    "                    df = df.drop(col)\n",
    "        \n",
    "        return df"
   ]
  },
  {
   "cell_type": "code",
   "execution_count": 4,
   "id": "f92b2557",
   "metadata": {
    "execution": {
     "iopub.execute_input": "2024-10-25T18:38:58.501145Z",
     "iopub.status.busy": "2024-10-25T18:38:58.500891Z",
     "iopub.status.idle": "2024-10-25T18:38:58.510414Z",
     "shell.execute_reply": "2024-10-25T18:38:58.509604Z"
    },
    "papermill": {
     "duration": 0.01862,
     "end_time": "2024-10-25T18:38:58.512289",
     "exception": false,
     "start_time": "2024-10-25T18:38:58.493669",
     "status": "completed"
    },
    "tags": []
   },
   "outputs": [],
   "source": [
    "class Aggregator:\n",
    "    \n",
    "    def num_expr(df):\n",
    "        cols = [col for col in df.columns if col[-1] in (\"P\", \"A\")]\n",
    "        expr_max = [pl.max(col).alias(f\"max_{col}\") for col in cols]\n",
    "        return expr_max\n",
    "    \n",
    "    def date_expr(df):\n",
    "        cols = [col for col in df.columns if col[-1] in (\"D\")]\n",
    "        expr_max = [pl.max(col).alias(f\"max_{col}\") for col in cols]\n",
    "        return expr_max\n",
    "    \n",
    "    def str_expr(df):\n",
    "        cols = [col for col in df.columns if col[-1] in (\"M\",)]\n",
    "        expr_max = [pl.max(col).alias(f\"max_{col}\") for col in cols]\n",
    "        return expr_max\n",
    "    \n",
    "    def other_expr(df):\n",
    "        cols = [col for col in df.columns if col[-1] in (\"T\", \"L\")]\n",
    "        expr_max = [pl.max(col).alias(f\"max_{col}\") for col in cols]\n",
    "        return expr_max\n",
    "    \n",
    "    def count_expr(df):\n",
    "        cols = [col for col in df.columns if \"num_group\" in col]\n",
    "        expr_max = [pl.max(col).alias(f\"max_{col}\") for col in cols]  # max & replace col name\n",
    "        return expr_max\n",
    "    \n",
    "    def get_exprs(df):\n",
    "        exprs = Aggregator.num_expr(df) + \\\n",
    "                Aggregator.date_expr(df) + \\\n",
    "                Aggregator.str_expr(df) + \\\n",
    "                Aggregator.other_expr(df) + \\\n",
    "                Aggregator.count_expr(df)\n",
    "\n",
    "        return exprs"
   ]
  },
  {
   "cell_type": "code",
   "execution_count": 5,
   "id": "53a89b11",
   "metadata": {
    "execution": {
     "iopub.execute_input": "2024-10-25T18:38:58.525818Z",
     "iopub.status.busy": "2024-10-25T18:38:58.525566Z",
     "iopub.status.idle": "2024-10-25T18:38:58.532213Z",
     "shell.execute_reply": "2024-10-25T18:38:58.531380Z"
    },
    "papermill": {
     "duration": 0.015582,
     "end_time": "2024-10-25T18:38:58.534083",
     "exception": false,
     "start_time": "2024-10-25T18:38:58.518501",
     "status": "completed"
    },
    "tags": []
   },
   "outputs": [],
   "source": [
    "def read_file(path, depth=None):\n",
    "    df = pl.read_parquet(path)\n",
    "    df = df.pipe(Pipeline.set_table_dtypes)\n",
    "    if depth in [1,2]:\n",
    "        df = df.group_by(\"case_id\").agg(Aggregator.get_exprs(df)) \n",
    "    return df\n",
    "\n",
    "def read_files(regex_path, depth=None):\n",
    "    chunks = []\n",
    "    \n",
    "    for path in glob(str(regex_path)):\n",
    "        df = pl.read_parquet(path)\n",
    "        df = df.pipe(Pipeline.set_table_dtypes)\n",
    "        if depth in [1, 2]:\n",
    "            df = df.group_by(\"case_id\").agg(Aggregator.get_exprs(df))\n",
    "        chunks.append(df)\n",
    "    \n",
    "    df = pl.concat(chunks, how=\"vertical_relaxed\")\n",
    "    df = df.unique(subset=[\"case_id\"])\n",
    "    return df"
   ]
  },
  {
   "cell_type": "code",
   "execution_count": 6,
   "id": "4762dcf6",
   "metadata": {
    "execution": {
     "iopub.execute_input": "2024-10-25T18:38:58.547763Z",
     "iopub.status.busy": "2024-10-25T18:38:58.547108Z",
     "iopub.status.idle": "2024-10-25T18:38:58.552552Z",
     "shell.execute_reply": "2024-10-25T18:38:58.551737Z"
    },
    "papermill": {
     "duration": 0.014126,
     "end_time": "2024-10-25T18:38:58.554392",
     "exception": false,
     "start_time": "2024-10-25T18:38:58.540266",
     "status": "completed"
    },
    "tags": []
   },
   "outputs": [],
   "source": [
    "def feature_eng(df_base, depth_0, depth_1, depth_2):\n",
    "    df_base = (\n",
    "        df_base\n",
    "        .with_columns(\n",
    "            month_decision = pl.col(\"date_decision\").dt.month(),\n",
    "            weekday_decision = pl.col(\"date_decision\").dt.weekday(),\n",
    "        )\n",
    "    )\n",
    "    for i, df in enumerate(depth_0 + depth_1 + depth_2):\n",
    "        df_base = df_base.join(df, how=\"left\", on=\"case_id\", suffix=f\"_{i}\")\n",
    "    df_base = df_base.pipe(Pipeline.handle_dates)\n",
    "    return df_base"
   ]
  },
  {
   "cell_type": "code",
   "execution_count": 7,
   "id": "69b36268",
   "metadata": {
    "execution": {
     "iopub.execute_input": "2024-10-25T18:38:58.568159Z",
     "iopub.status.busy": "2024-10-25T18:38:58.567452Z",
     "iopub.status.idle": "2024-10-25T18:38:58.572297Z",
     "shell.execute_reply": "2024-10-25T18:38:58.571474Z"
    },
    "papermill": {
     "duration": 0.013561,
     "end_time": "2024-10-25T18:38:58.574170",
     "exception": false,
     "start_time": "2024-10-25T18:38:58.560609",
     "status": "completed"
    },
    "tags": []
   },
   "outputs": [],
   "source": [
    "def to_pandas(df_data, cat_cols=None):\n",
    "    df_data = df_data.to_pandas()\n",
    "    if cat_cols is None:\n",
    "        cat_cols = list(df_data.select_dtypes(\"object\").columns)\n",
    "    df_data[cat_cols] = df_data[cat_cols].astype(\"category\")\n",
    "    return df_data, cat_cols"
   ]
  },
  {
   "cell_type": "code",
   "execution_count": 8,
   "id": "9ef61c07",
   "metadata": {
    "execution": {
     "iopub.execute_input": "2024-10-25T18:38:58.587437Z",
     "iopub.status.busy": "2024-10-25T18:38:58.587133Z",
     "iopub.status.idle": "2024-10-25T18:38:58.591247Z",
     "shell.execute_reply": "2024-10-25T18:38:58.590382Z"
    },
    "papermill": {
     "duration": 0.012924,
     "end_time": "2024-10-25T18:38:58.593208",
     "exception": false,
     "start_time": "2024-10-25T18:38:58.580284",
     "status": "completed"
    },
    "tags": []
   },
   "outputs": [],
   "source": [
    "ROOT            = Path(\"/kaggle/input/home-credit-credit-risk-model-stability\")\n",
    "\n",
    "TRAIN_DIR       = ROOT / \"parquet_files\" / \"train\"\n",
    "TEST_DIR        = ROOT / \"parquet_files\" / \"test\""
   ]
  },
  {
   "cell_type": "code",
   "execution_count": 9,
   "id": "06f59077",
   "metadata": {
    "execution": {
     "iopub.execute_input": "2024-10-25T18:38:58.606620Z",
     "iopub.status.busy": "2024-10-25T18:38:58.606362Z",
     "iopub.status.idle": "2024-10-25T18:41:02.933079Z",
     "shell.execute_reply": "2024-10-25T18:41:02.932205Z"
    },
    "papermill": {
     "duration": 124.336129,
     "end_time": "2024-10-25T18:41:02.935544",
     "exception": false,
     "start_time": "2024-10-25T18:38:58.599415",
     "status": "completed"
    },
    "tags": []
   },
   "outputs": [],
   "source": [
    "data_store_train = {\n",
    "    \"df_base\": read_file(TRAIN_DIR / \"train_base.parquet\"),\n",
    "    \"depth_0\": [\n",
    "        read_file(TRAIN_DIR / \"train_static_cb_0.parquet\"),\n",
    "        read_files(TRAIN_DIR / \"train_static_0_*.parquet\"),\n",
    "    ],\n",
    "    \"depth_1\": [\n",
    "        read_files(TRAIN_DIR / \"train_applprev_1_*.parquet\", 1),\n",
    "        read_file(TRAIN_DIR / \"train_tax_registry_a_1.parquet\", 1),\n",
    "        read_file(TRAIN_DIR / \"train_tax_registry_b_1.parquet\", 1),\n",
    "        read_file(TRAIN_DIR / \"train_tax_registry_c_1.parquet\", 1),\n",
    "        read_files(TRAIN_DIR / \"train_credit_bureau_a_1_*.parquet\", 1),\n",
    "        read_file(TRAIN_DIR / \"train_credit_bureau_b_1.parquet\", 1),\n",
    "        read_file(TRAIN_DIR / \"train_other_1.parquet\", 1),\n",
    "        read_file(TRAIN_DIR / \"train_person_1.parquet\", 1),\n",
    "        read_file(TRAIN_DIR / \"train_deposit_1.parquet\", 1),\n",
    "        read_file(TRAIN_DIR / \"train_debitcard_1.parquet\", 1),\n",
    "    ],\n",
    "    \"depth_2\": [\n",
    "        read_file(TRAIN_DIR / \"train_credit_bureau_b_2.parquet\", 2),\n",
    "        read_files(TRAIN_DIR / \"train_credit_bureau_a_2_*.parquet\", 2),\n",
    "        read_file(TRAIN_DIR / \"train_applprev_2.parquet\", 2),\n",
    "        read_file(TRAIN_DIR / \"train_person_2.parquet\", 2)\n",
    "    ]\n",
    "}"
   ]
  },
  {
   "cell_type": "code",
   "execution_count": 10,
   "id": "d54f0d44",
   "metadata": {
    "execution": {
     "iopub.execute_input": "2024-10-25T18:41:02.950016Z",
     "iopub.status.busy": "2024-10-25T18:41:02.949711Z",
     "iopub.status.idle": "2024-10-25T18:41:03.212264Z",
     "shell.execute_reply": "2024-10-25T18:41:03.211549Z"
    },
    "papermill": {
     "duration": 0.272,
     "end_time": "2024-10-25T18:41:03.214308",
     "exception": false,
     "start_time": "2024-10-25T18:41:02.942308",
     "status": "completed"
    },
    "tags": []
   },
   "outputs": [],
   "source": [
    "data_store_test = {\n",
    "    \"df_base\": read_file(TEST_DIR / \"test_base.parquet\"),\n",
    "    \"depth_0\": [\n",
    "        read_file(TEST_DIR / \"test_static_cb_0.parquet\"),\n",
    "        read_files(TEST_DIR / \"test_static_0_*.parquet\"),\n",
    "    ],\n",
    "    \"depth_1\": [\n",
    "        read_files(TEST_DIR / \"test_applprev_1_*.parquet\", 1),\n",
    "        read_file(TEST_DIR / \"test_tax_registry_a_1.parquet\", 1),\n",
    "        read_file(TEST_DIR / \"test_tax_registry_b_1.parquet\", 1),\n",
    "        read_file(TEST_DIR / \"test_tax_registry_c_1.parquet\", 1),\n",
    "        read_files(TEST_DIR / \"test_credit_bureau_a_1_*.parquet\", 1),\n",
    "        read_file(TEST_DIR / \"test_credit_bureau_b_1.parquet\", 1),\n",
    "        read_file(TEST_DIR / \"test_other_1.parquet\", 1),\n",
    "        read_file(TEST_DIR / \"test_person_1.parquet\", 1),\n",
    "        read_file(TEST_DIR / \"test_deposit_1.parquet\", 1),\n",
    "        read_file(TEST_DIR / \"test_debitcard_1.parquet\", 1),\n",
    "    ],\n",
    "    \"depth_2\": [\n",
    "        read_file(TEST_DIR / \"test_credit_bureau_b_2.parquet\", 2),\n",
    "        read_files(TEST_DIR / \"test_credit_bureau_a_2_*.parquet\", 2),\n",
    "        read_file(TEST_DIR / \"test_applprev_2.parquet\", 2),\n",
    "        read_file(TEST_DIR / \"test_person_2.parquet\", 2)\n",
    "    ]\n",
    "}"
   ]
  },
  {
   "cell_type": "code",
   "execution_count": 11,
   "id": "19565227",
   "metadata": {
    "execution": {
     "iopub.execute_input": "2024-10-25T18:41:03.229491Z",
     "iopub.status.busy": "2024-10-25T18:41:03.229177Z",
     "iopub.status.idle": "2024-10-25T18:41:03.235578Z",
     "shell.execute_reply": "2024-10-25T18:41:03.234760Z"
    },
    "papermill": {
     "duration": 0.016321,
     "end_time": "2024-10-25T18:41:03.237449",
     "exception": false,
     "start_time": "2024-10-25T18:41:03.221128",
     "status": "completed"
    },
    "tags": []
   },
   "outputs": [],
   "source": [
    "def filter_cols(df, isnull_per = 0.7, freq_num = 200):\n",
    "    for col in df.columns:\n",
    "        if col not in [\"target\", \"case_id\", \"WEEK_NUM\"]:\n",
    "            isnull = df[col].is_null().mean()\n",
    "            if isnull > isnull_per:\n",
    "                df = df.drop(col)\n",
    "    for col in df.columns:\n",
    "        if (col not in [\"target\", \"case_id\", \"WEEK_NUM\"]) & (df[col].dtype == pl.String):\n",
    "            freq = df[col].n_unique()\n",
    "            if (freq == 1) | (freq > 200):\n",
    "                df = df.drop(col)\n",
    "    return df"
   ]
  },
  {
   "cell_type": "code",
   "execution_count": 12,
   "id": "357c9c48",
   "metadata": {
    "execution": {
     "iopub.execute_input": "2024-10-25T18:41:03.250989Z",
     "iopub.status.busy": "2024-10-25T18:41:03.250711Z",
     "iopub.status.idle": "2024-10-25T18:41:13.035111Z",
     "shell.execute_reply": "2024-10-25T18:41:13.034190Z"
    },
    "papermill": {
     "duration": 9.793887,
     "end_time": "2024-10-25T18:41:13.037467",
     "exception": false,
     "start_time": "2024-10-25T18:41:03.243580",
     "status": "completed"
    },
    "tags": []
   },
   "outputs": [
    {
     "name": "stdout",
     "output_type": "stream",
     "text": [
      "train data shape:\t (1526659, 487)\n"
     ]
    }
   ],
   "source": [
    "df_train = feature_eng(**data_store_train)\n",
    "print(\"train data shape:\\t\", df_train.shape)"
   ]
  },
  {
   "cell_type": "code",
   "execution_count": 13,
   "id": "f56c160f",
   "metadata": {
    "execution": {
     "iopub.execute_input": "2024-10-25T18:41:13.051630Z",
     "iopub.status.busy": "2024-10-25T18:41:13.051324Z",
     "iopub.status.idle": "2024-10-25T18:41:13.090461Z",
     "shell.execute_reply": "2024-10-25T18:41:13.089530Z"
    },
    "papermill": {
     "duration": 0.048327,
     "end_time": "2024-10-25T18:41:13.092367",
     "exception": false,
     "start_time": "2024-10-25T18:41:13.044040",
     "status": "completed"
    },
    "tags": []
   },
   "outputs": [
    {
     "name": "stdout",
     "output_type": "stream",
     "text": [
      "test data shape:\t (10, 486)\n"
     ]
    }
   ],
   "source": [
    "df_test = feature_eng(**data_store_test)\n",
    "print(\"test data shape:\\t\", df_test.shape)"
   ]
  },
  {
   "cell_type": "code",
   "execution_count": 14,
   "id": "6d6ebcb1",
   "metadata": {
    "execution": {
     "iopub.execute_input": "2024-10-25T18:41:13.106398Z",
     "iopub.status.busy": "2024-10-25T18:41:13.105903Z",
     "iopub.status.idle": "2024-10-25T18:41:15.973269Z",
     "shell.execute_reply": "2024-10-25T18:41:15.972365Z"
    },
    "papermill": {
     "duration": 2.87662,
     "end_time": "2024-10-25T18:41:15.975429",
     "exception": false,
     "start_time": "2024-10-25T18:41:13.098809",
     "status": "completed"
    },
    "tags": []
   },
   "outputs": [
    {
     "name": "stdout",
     "output_type": "stream",
     "text": [
      "train data shape:\t (1526659, 327)\n",
      "test data shape:\t (10, 326)\n"
     ]
    }
   ],
   "source": [
    "df_train = filter_cols(df_train, 0.7, 200)\n",
    "df_test = df_test.select([col for col in df_train.columns if col != \"target\"])\n",
    "\n",
    "print(\"train data shape:\\t\", df_train.shape)\n",
    "print(\"test data shape:\\t\", df_test.shape)"
   ]
  },
  {
   "cell_type": "code",
   "execution_count": 15,
   "id": "a73e30ae",
   "metadata": {
    "execution": {
     "iopub.execute_input": "2024-10-25T18:41:15.989715Z",
     "iopub.status.busy": "2024-10-25T18:41:15.989417Z",
     "iopub.status.idle": "2024-10-25T18:41:36.775623Z",
     "shell.execute_reply": "2024-10-25T18:41:36.774516Z"
    },
    "papermill": {
     "duration": 20.796527,
     "end_time": "2024-10-25T18:41:36.778564",
     "exception": false,
     "start_time": "2024-10-25T18:41:15.982037",
     "status": "completed"
    },
    "tags": []
   },
   "outputs": [],
   "source": [
    "df_train, cat_cols = to_pandas(df_train)\n",
    "df_test, cat_cols = to_pandas(df_test, cat_cols)"
   ]
  },
  {
   "cell_type": "code",
   "execution_count": 16,
   "id": "ab53c3ba",
   "metadata": {
    "execution": {
     "iopub.execute_input": "2024-10-25T18:41:36.797051Z",
     "iopub.status.busy": "2024-10-25T18:41:36.796210Z",
     "iopub.status.idle": "2024-10-25T18:41:37.255761Z",
     "shell.execute_reply": "2024-10-25T18:41:37.254747Z"
    },
    "papermill": {
     "duration": 0.470207,
     "end_time": "2024-10-25T18:41:37.258265",
     "exception": false,
     "start_time": "2024-10-25T18:41:36.788058",
     "status": "completed"
    },
    "tags": []
   },
   "outputs": [
    {
     "data": {
      "text/plain": [
       "0"
      ]
     },
     "execution_count": 16,
     "metadata": {},
     "output_type": "execute_result"
    }
   ],
   "source": [
    "del data_store_train\n",
    "gc.collect()\n",
    "del data_store_test\n",
    "gc.collect()"
   ]
  },
  {
   "cell_type": "code",
   "execution_count": 17,
   "id": "5113ab35",
   "metadata": {
    "execution": {
     "iopub.execute_input": "2024-10-25T18:41:37.278333Z",
     "iopub.status.busy": "2024-10-25T18:41:37.277790Z",
     "iopub.status.idle": "2024-10-25T19:08:15.771222Z",
     "shell.execute_reply": "2024-10-25T19:08:15.770285Z"
    },
    "papermill": {
     "duration": 1598.515745,
     "end_time": "2024-10-25T19:08:15.783819",
     "exception": false,
     "start_time": "2024-10-25T18:41:37.268074",
     "status": "completed"
    },
    "tags": []
   },
   "outputs": [
    {
     "name": "stderr",
     "output_type": "stream",
     "text": [
      "1 warning generated.\n",
      "1 warning generated.\n",
      "1 warning generated.\n",
      "1 warning generated.\n",
      "1 warning generated.\n",
      "1 warning generated.\n",
      "1 warning generated.\n",
      "1 warning generated.\n",
      "1 warning generated.\n",
      "1 warning generated.\n",
      "1 warning generated.\n",
      "1 warning generated.\n",
      "1 warning generated.\n",
      "1 warning generated.\n",
      "1 warning generated.\n",
      "1 warning generated.\n",
      "1 warning generated.\n",
      "1 warning generated.\n",
      "1 warning generated.\n",
      "1 warning generated.\n",
      "1 warning generated.\n",
      "1 warning generated.\n",
      "1 warning generated.\n",
      "1 warning generated.\n",
      "1 warning generated.\n",
      "1 warning generated.\n",
      "1 warning generated.\n",
      "1 warning generated.\n",
      "1 warning generated.\n",
      "1 warning generated.\n",
      "1 warning generated.\n",
      "1 warning generated.\n",
      "1 warning generated.\n"
     ]
    },
    {
     "name": "stdout",
     "output_type": "stream",
     "text": [
      "Training until validation scores don't improve for 60 rounds\n",
      "[200]\tvalid_0's auc: 0.845475\n",
      "[400]\tvalid_0's auc: 0.850671\n",
      "[600]\tvalid_0's auc: 0.852111\n",
      "[800]\tvalid_0's auc: 0.85282\n",
      "[1000]\tvalid_0's auc: 0.853052\n",
      "Early stopping, best iteration is:\n",
      "[1088]\tvalid_0's auc: 0.8531\n",
      "Training until validation scores don't improve for 60 rounds\n",
      "[200]\tvalid_0's auc: 0.847342\n",
      "[400]\tvalid_0's auc: 0.851944\n",
      "[600]\tvalid_0's auc: 0.853602\n",
      "[800]\tvalid_0's auc: 0.854214\n",
      "[1000]\tvalid_0's auc: 0.854418\n",
      "[1200]\tvalid_0's auc: 0.854706\n",
      "Early stopping, best iteration is:\n",
      "[1331]\tvalid_0's auc: 0.854898\n",
      "Training until validation scores don't improve for 60 rounds\n",
      "[200]\tvalid_0's auc: 0.850991\n",
      "[400]\tvalid_0's auc: 0.856197\n",
      "[600]\tvalid_0's auc: 0.857881\n",
      "[800]\tvalid_0's auc: 0.858481\n",
      "[1000]\tvalid_0's auc: 0.858783\n",
      "[1200]\tvalid_0's auc: 0.858956\n",
      "Early stopping, best iteration is:\n",
      "[1203]\tvalid_0's auc: 0.85897\n",
      "Training until validation scores don't improve for 60 rounds\n",
      "[200]\tvalid_0's auc: 0.850652\n",
      "[400]\tvalid_0's auc: 0.855476\n",
      "[600]\tvalid_0's auc: 0.857052\n",
      "[800]\tvalid_0's auc: 0.857779\n",
      "[1000]\tvalid_0's auc: 0.858147\n",
      "[1200]\tvalid_0's auc: 0.858299\n",
      "Early stopping, best iteration is:\n",
      "[1176]\tvalid_0's auc: 0.858344\n",
      "Training until validation scores don't improve for 60 rounds\n",
      "[200]\tvalid_0's auc: 0.847011\n",
      "[400]\tvalid_0's auc: 0.852496\n",
      "[600]\tvalid_0's auc: 0.853837\n",
      "[800]\tvalid_0's auc: 0.854304\n",
      "Early stopping, best iteration is:\n",
      "[802]\tvalid_0's auc: 0.854314\n",
      "CV AUC scores:  [0.85309975 0.85489802 0.85897026 0.85834447 0.85431414]\n",
      "Maximum CV AUC score:  0.8589702576899716\n"
     ]
    }
   ],
   "source": [
    "X = df_train.drop(columns=[\"target\", \"case_id\", \"WEEK_NUM\"])\n",
    "y = df_train[\"target\"]\n",
    "weeks = df_train[\"WEEK_NUM\"]\n",
    "\n",
    "cv = StratifiedGroupKFold(n_splits=5, shuffle=False)\n",
    "\n",
    "params = {\n",
    "    \"boosting_type\": \"gbdt\",\n",
    "    \"objective\": \"binary\",\n",
    "    \"metric\": \"auc\",\n",
    "    \"max_depth\": 12,  \n",
    "    \"learning_rate\": 0.05,\n",
    "    \"n_estimators\": 2000,  \n",
    "    \"colsample_bytree\": 0.8,\n",
    "    \"colsample_bynode\": 0.8,\n",
    "    \"verbose\": -1,\n",
    "    \"random_state\": 42,\n",
    "    \"reg_alpha\": 0.1,\n",
    "    \"reg_lambda\": 10,\n",
    "    \"extra_trees\":True,\n",
    "    'num_leaves':64,\n",
    "    \"device\": \"gpu\", \n",
    "    \"verbose\": -1,\n",
    "}\n",
    "\n",
    "fitted_models = []\n",
    "cv_scores = []\n",
    "\n",
    "for idx_train, idx_valid in cv.split(X, y, groups=weeks):\n",
    "    X_train, y_train = X.iloc[idx_train], y.iloc[idx_train]\n",
    "    X_valid, y_valid = X.iloc[idx_valid], y.iloc[idx_valid]\n",
    "    \n",
    "    model = lgb.LGBMClassifier(**params)\n",
    "    model.fit(\n",
    "        X_train, y_train,\n",
    "        eval_set = [(X_valid, y_valid)],\n",
    "        callbacks = [lgb.log_evaluation(200), lgb.early_stopping(60)] )\n",
    "    fitted_models.append(model)\n",
    "    \n",
    "    y_pred_valid = model.predict_proba(X_valid)[:,1]\n",
    "    auc_score = roc_auc_score(y_valid, y_pred_valid)\n",
    "    cv_scores.append(auc_score)\n",
    "\n",
    "cv_scores = np.array(cv_scores)\n",
    "print(\"CV AUC scores: \", cv_scores)\n",
    "print(\"Maximum CV AUC score: \", max(cv_scores))"
   ]
  },
  {
   "cell_type": "code",
   "execution_count": 18,
   "id": "de5e5889",
   "metadata": {
    "execution": {
     "iopub.execute_input": "2024-10-25T19:08:15.806280Z",
     "iopub.status.busy": "2024-10-25T19:08:15.805925Z",
     "iopub.status.idle": "2024-10-25T19:08:15.811878Z",
     "shell.execute_reply": "2024-10-25T19:08:15.811061Z"
    },
    "papermill": {
     "duration": 0.01932,
     "end_time": "2024-10-25T19:08:15.813730",
     "exception": false,
     "start_time": "2024-10-25T19:08:15.794410",
     "status": "completed"
    },
    "tags": []
   },
   "outputs": [],
   "source": [
    "def predict(models, X_test, models_weight):\n",
    "    y_preds = pd.DataFrame(index=X_test.index,columns = ['pred_'+str(i) for i in range(0,len(models))])\n",
    "    for i in range(0,len(models)):\n",
    "        y_preds.loc[:, 'pred_'+str(i)] = np.array(models[i].predict_proba(X_test)[:,1]) * models_weight[i]\n",
    "    return y_preds.sum(1)"
   ]
  },
  {
   "cell_type": "code",
   "execution_count": 19,
   "id": "7492653b",
   "metadata": {
    "execution": {
     "iopub.execute_input": "2024-10-25T19:08:15.836012Z",
     "iopub.status.busy": "2024-10-25T19:08:15.835748Z",
     "iopub.status.idle": "2024-10-25T19:08:16.110983Z",
     "shell.execute_reply": "2024-10-25T19:08:16.110100Z"
    },
    "papermill": {
     "duration": 0.28885,
     "end_time": "2024-10-25T19:08:16.113257",
     "exception": false,
     "start_time": "2024-10-25T19:08:15.824407",
     "status": "completed"
    },
    "tags": []
   },
   "outputs": [],
   "source": [
    "X_test = df_test.drop(columns=[\"WEEK_NUM\"])\n",
    "X_test = X_test.set_index(\"case_id\")\n",
    "models_weight = cv_scores / cv_scores.sum()\n",
    "\n",
    "lgb_pred = pd.Series(predict(fitted_models, X_test, models_weight), index=X_test.index)"
   ]
  },
  {
   "cell_type": "code",
   "execution_count": 20,
   "id": "784c43a7",
   "metadata": {
    "execution": {
     "iopub.execute_input": "2024-10-25T19:08:16.137414Z",
     "iopub.status.busy": "2024-10-25T19:08:16.137067Z",
     "iopub.status.idle": "2024-10-25T19:08:16.156631Z",
     "shell.execute_reply": "2024-10-25T19:08:16.155648Z"
    },
    "papermill": {
     "duration": 0.033996,
     "end_time": "2024-10-25T19:08:16.158918",
     "exception": false,
     "start_time": "2024-10-25T19:08:16.124922",
     "status": "completed"
    },
    "tags": []
   },
   "outputs": [],
   "source": [
    "df_subm = pd.read_csv(ROOT / \"sample_submission.csv\")\n",
    "df_subm = df_subm.set_index(\"case_id\")\n",
    "\n",
    "df_subm[\"score\"] = lgb_pred"
   ]
  },
  {
   "cell_type": "code",
   "execution_count": 21,
   "id": "d22a00cd",
   "metadata": {
    "execution": {
     "iopub.execute_input": "2024-10-25T19:08:16.183825Z",
     "iopub.status.busy": "2024-10-25T19:08:16.183015Z",
     "iopub.status.idle": "2024-10-25T19:08:16.194942Z",
     "shell.execute_reply": "2024-10-25T19:08:16.194030Z"
    },
    "papermill": {
     "duration": 0.02576,
     "end_time": "2024-10-25T19:08:16.196826",
     "exception": false,
     "start_time": "2024-10-25T19:08:16.171066",
     "status": "completed"
    },
    "tags": []
   },
   "outputs": [
    {
     "data": {
      "text/html": [
       "<div>\n",
       "<style scoped>\n",
       "    .dataframe tbody tr th:only-of-type {\n",
       "        vertical-align: middle;\n",
       "    }\n",
       "\n",
       "    .dataframe tbody tr th {\n",
       "        vertical-align: top;\n",
       "    }\n",
       "\n",
       "    .dataframe thead th {\n",
       "        text-align: right;\n",
       "    }\n",
       "</style>\n",
       "<table border=\"1\" class=\"dataframe\">\n",
       "  <thead>\n",
       "    <tr style=\"text-align: right;\">\n",
       "      <th></th>\n",
       "      <th>score</th>\n",
       "    </tr>\n",
       "    <tr>\n",
       "      <th>case_id</th>\n",
       "      <th></th>\n",
       "    </tr>\n",
       "  </thead>\n",
       "  <tbody>\n",
       "    <tr>\n",
       "      <th>57543</th>\n",
       "      <td>0.00434</td>\n",
       "    </tr>\n",
       "    <tr>\n",
       "      <th>57549</th>\n",
       "      <td>0.045378</td>\n",
       "    </tr>\n",
       "    <tr>\n",
       "      <th>57551</th>\n",
       "      <td>0.002121</td>\n",
       "    </tr>\n",
       "    <tr>\n",
       "      <th>57552</th>\n",
       "      <td>0.016379</td>\n",
       "    </tr>\n",
       "    <tr>\n",
       "      <th>57569</th>\n",
       "      <td>0.135811</td>\n",
       "    </tr>\n",
       "  </tbody>\n",
       "</table>\n",
       "</div>"
      ],
      "text/plain": [
       "            score\n",
       "case_id          \n",
       "57543     0.00434\n",
       "57549    0.045378\n",
       "57551    0.002121\n",
       "57552    0.016379\n",
       "57569    0.135811"
      ]
     },
     "execution_count": 21,
     "metadata": {},
     "output_type": "execute_result"
    }
   ],
   "source": [
    "df_subm.head()"
   ]
  },
  {
   "cell_type": "code",
   "execution_count": 22,
   "id": "76a68178",
   "metadata": {
    "execution": {
     "iopub.execute_input": "2024-10-25T19:08:16.221417Z",
     "iopub.status.busy": "2024-10-25T19:08:16.220719Z",
     "iopub.status.idle": "2024-10-25T19:08:16.227692Z",
     "shell.execute_reply": "2024-10-25T19:08:16.226909Z"
    },
    "papermill": {
     "duration": 0.021569,
     "end_time": "2024-10-25T19:08:16.229819",
     "exception": false,
     "start_time": "2024-10-25T19:08:16.208250",
     "status": "completed"
    },
    "tags": []
   },
   "outputs": [],
   "source": [
    "df_subm.to_csv(\"submission.csv\")"
   ]
  }
 ],
 "metadata": {
  "kaggle": {
   "accelerator": "nvidiaTeslaT4",
   "dataSources": [
    {
     "databundleVersionId": 7921029,
     "sourceId": 50160,
     "sourceType": "competition"
    }
   ],
   "dockerImageVersionId": 30786,
   "isGpuEnabled": true,
   "isInternetEnabled": false,
   "language": "python",
   "sourceType": "notebook"
  },
  "kernelspec": {
   "display_name": "Python 3",
   "language": "python",
   "name": "python3"
  },
  "language_info": {
   "codemirror_mode": {
    "name": "ipython",
    "version": 3
   },
   "file_extension": ".py",
   "mimetype": "text/x-python",
   "name": "python",
   "nbconvert_exporter": "python",
   "pygments_lexer": "ipython3",
   "version": "3.10.14"
  },
  "papermill": {
   "default_parameters": {},
   "duration": 1766.823346,
   "end_time": "2024-10-25T19:08:17.361490",
   "environment_variables": {},
   "exception": null,
   "input_path": "__notebook__.ipynb",
   "output_path": "__notebook__.ipynb",
   "parameters": {},
   "start_time": "2024-10-25T18:38:50.538144",
   "version": "2.6.0"
  }
 },
 "nbformat": 4,
 "nbformat_minor": 5
}
